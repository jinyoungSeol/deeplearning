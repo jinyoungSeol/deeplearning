{
  "cells": [
    {
      "metadata": {},
      "cell_type": "markdown",
      "source": "# GAN"
    },
    {
      "metadata": {
        "collapsed": true
      },
      "cell_type": "markdown",
      "source": "소스 원 위치 : https://github.com/golbin/TensorFlow-Tutorials/blob/master/09%20-%20GAN/01%20-%20GAN.py\n\n수정 사항\n- mnist = input_data.read_data_sets(\"../mnist/data/\", one_hot=True)"
    },
    {
      "metadata": {
        "trusted": false
      },
      "cell_type": "code",
      "source": "# 2016년에 가장 관심을 많이 받았던 비감독(Unsupervised) 학습 방법인\n# Generative Adversarial Network(GAN)을 구현해봅니다.\n# https://arxiv.org/abs/1406.2661\nimport tensorflow as tf\nimport matplotlib.pyplot as plt\nimport numpy as np\n\nfrom tensorflow.examples.tutorials.mnist import input_data\nmnist = input_data.read_data_sets(\"../mnist/data/\", one_hot=True)\n\n#########\n# 옵션 설정\n######\ntotal_epoch = 100\nbatch_size = 100\nlearning_rate = 0.0002\n# 신경망 레이어 구성 옵션\nn_hidden = 256\nn_input = 28 * 28\nn_noise = 128  # 생성기의 입력값으로 사용할 노이즈의 크기\n\n#########\n# 신경망 모델 구성\n######\n# GAN 도 Unsupervised 학습이므로 Autoencoder 처럼 Y 를 사용하지 않습니다.\nX = tf.placeholder(tf.float32, [None, n_input])\n# 노이즈 Z를 입력값으로 사용합니다.\nZ = tf.placeholder(tf.float32, [None, n_noise])\n\n# 생성기 신경망에 사용하는 변수들입니다.\nG_W1 = tf.Variable(tf.random_normal([n_noise, n_hidden], stddev=0.01))\nG_b1 = tf.Variable(tf.zeros([n_hidden]))\nG_W2 = tf.Variable(tf.random_normal([n_hidden, n_input], stddev=0.01))\nG_b2 = tf.Variable(tf.zeros([n_input]))\n\n# 판별기 신경망에 사용하는 변수들입니다.\nD_W1 = tf.Variable(tf.random_normal([n_input, n_hidden], stddev=0.01))\nD_b1 = tf.Variable(tf.zeros([n_hidden]))\n# 판별기의 최종 결과값은 얼마나 진짜와 가깝냐를 판단하는 한 개의 스칼라값입니다.\nD_W2 = tf.Variable(tf.random_normal([n_hidden, 1], stddev=0.01))\nD_b2 = tf.Variable(tf.zeros([1]))\n\n\n# 생성기(G) 신경망을 구성합니다.\ndef generator(noise_z):\n    hidden = tf.nn.relu(\n                    tf.matmul(noise_z, G_W1) + G_b1)\n    output = tf.nn.sigmoid(\n                    tf.matmul(hidden, G_W2) + G_b2)\n\n    return output\n\n\n# 판별기(D) 신경망을 구성합니다.\ndef discriminator(inputs):\n    hidden = tf.nn.relu(\n                    tf.matmul(inputs, D_W1) + D_b1)\n    output = tf.nn.sigmoid(\n                    tf.matmul(hidden, D_W2) + D_b2)\n\n    return output\n\n\n# 랜덤한 노이즈(Z)를 만듭니다.\ndef get_noise(batch_size, n_noise):\n    return np.random.normal(size=(batch_size, n_noise))\n\n\n# 노이즈를 이용해 랜덤한 이미지를 생성합니다.\nG = generator(Z)\n# 노이즈를 이용해 생성한 이미지가 진짜 이미지인지 판별한 값을 구합니다.\nD_gene = discriminator(G)\n# 진짜 이미지를 이용해 판별한 값을 구합니다.\nD_real = discriminator(X)\n\n# 논문에 따르면, GAN 모델의 최적화는 loss_G 와 loss_D 를 최대화 하는 것 입니다.\n# 다만 loss_D와 loss_G는 서로 연관관계가 있기 때문에 두 개의 손실값이 항상 같이 증가하는 경향을 보이지는 않을 것 입니다.\n# loss_D가 증가하려면 loss_G는 하락해야하고, loss_G가 증가하려면 loss_D는 하락해야하는 경쟁관계에 있기 때문입니다.\n# 논문의 수식에 따른 다음 로직을 보면 loss_D 를 최대화하기 위해서는 D_gene 값을 최소화하게 됩니다.\n# 판별기에 진짜 이미지를 넣었을 때에도 최대값을 : tf.log(D_real)\n# 가짜 이미지를 넣었을 때에도 최대값을 : tf.log(1 - D_gene)\n# 갖도록 학습시키기 때문입니다.\n# 이것은 판별기는 생성기가 만들어낸 이미지가 가짜라고 판단하도록 판별기 신경망을 학습시킵니다.\nloss_D = tf.reduce_mean(tf.log(D_real) + tf.log(1 - D_gene))\n# 반면 loss_G 를 최대화하기 위해서는 D_gene 값을 최대화하게 되는데,\n# 이것은 가짜 이미지를 넣었을 때, 판별기가 최대한 실제 이미지라고 판단하도록 생성기 신경망을 학습시킵니다.\n# 논문에서는 loss_D 와 같은 수식으로 최소화 하는 생성기를 찾지만,\n# 결국 D_gene 값을 최대화하는 것이므로 다음과 같이 사용할 수 있습니다.\nloss_G = tf.reduce_mean(tf.log(D_gene))\n\n# loss_D 를 구할 때는 판별기 신경망에 사용되는 변수만 사용하고,\n# loss_G 를 구할 때는 생성기 신경망에 사용되는 변수만 사용하여 최적화를 합니다.\nD_var_list = [D_W1, D_b1, D_W2, D_b2]\nG_var_list = [G_W1, G_b1, G_W2, G_b2]\n\n# GAN 논문의 수식에 따르면 loss 를 극대화 해야하지만, minimize 하는 최적화 함수를 사용하기 때문에\n# 최적화 하려는 loss_D 와 loss_G 에 음수 부호를 붙여줍니다.\ntrain_D = tf.train.AdamOptimizer(learning_rate).minimize(-loss_D,\n                                                         var_list=D_var_list)\ntrain_G = tf.train.AdamOptimizer(learning_rate).minimize(-loss_G,\n                                                         var_list=G_var_list)\n\n#########\n# 신경망 모델 학습\n######\nsess = tf.Session()\nsess.run(tf.global_variables_initializer())\n\ntotal_batch = int(mnist.train.num_examples/batch_size)\nloss_val_D, loss_val_G = 0, 0\n\nfor epoch in range(total_epoch):\n    for i in range(total_batch):\n        batch_xs, batch_ys = mnist.train.next_batch(batch_size)\n        noise = get_noise(batch_size, n_noise)\n\n        # 판별기와 생성기 신경망을 각각 학습시킵니다.\n        _, loss_val_D = sess.run([train_D, loss_D],\n                                 feed_dict={X: batch_xs, Z: noise})\n        _, loss_val_G = sess.run([train_G, loss_G],\n                                 feed_dict={Z: noise})\n\n    print('Epoch:', '%04d' % epoch,\n          'D loss: {:.4}'.format(loss_val_D),\n          'G loss: {:.4}'.format(loss_val_G))\n\n    #########\n    # 학습이 되어가는 모습을 보기 위해 주기적으로 이미지를 생성하여 저장\n    ######\n    if epoch == 0 or (epoch + 1) % 10 == 0:\n        sample_size = 10\n        noise = get_noise(sample_size, n_noise)\n        samples = sess.run(G, feed_dict={Z: noise})\n\n        fig, ax = plt.subplots(1, sample_size, figsize=(sample_size, 1))\n\n        for i in range(sample_size):\n            ax[i].set_axis_off()\n            ax[i].imshow(np.reshape(samples[i], (28, 28)))\n\n        plt.savefig('samples/{}.png'.format(str(epoch).zfill(3)), bbox_inches='tight')\n        plt.close(fig)\n\nprint('최적화 완료!')",
      "execution_count": 1,
      "outputs": [
        {
          "name": "stdout",
          "output_type": "stream",
          "text": "Extracting ../mnist/data/train-images-idx3-ubyte.gz\nExtracting ../mnist/data/train-labels-idx1-ubyte.gz\nExtracting ../mnist/data/t10k-images-idx3-ubyte.gz\nExtracting ../mnist/data/t10k-labels-idx1-ubyte.gz\nEpoch: 0000 D loss: -0.6093 G loss: -1.933\nEpoch: 0001 D loss: -0.4133 G loss: -2.236\nEpoch: 0002 D loss: -0.2853 G loss: -2.336\nEpoch: 0003 D loss: -0.5726 G loss: -1.583\nEpoch: 0004 D loss: -0.2549 G loss: -2.295\nEpoch: 0005 D loss: -0.3782 G loss: -2.038\nEpoch: 0006 D loss: -0.2599 G loss: -2.568\nEpoch: 0007 D loss: -0.2892 G loss: -2.649\nEpoch: 0008 D loss: -0.2854 G loss: -2.5\nEpoch: 0009 D loss: -0.5033 G loss: -2.005\nEpoch: 0010 D loss: -0.3562 G loss: -2.206\nEpoch: 0011 D loss: -0.4509 G loss: -2.017\nEpoch: 0012 D loss: -0.5074 G loss: -2.294\nEpoch: 0013 D loss: -0.5099 G loss: -1.918\nEpoch: 0014 D loss: -0.5278 G loss: -2.004\nEpoch: 0015 D loss: -0.4216 G loss: -2.778\nEpoch: 0016 D loss: -0.4294 G loss: -2.511\nEpoch: 0017 D loss: -0.3981 G loss: -2.538\nEpoch: 0018 D loss: -0.4378 G loss: -2.573\nEpoch: 0019 D loss: -0.3823 G loss: -2.599\nEpoch: 0020 D loss: -0.3061 G loss: -2.792\nEpoch: 0021 D loss: -0.3878 G loss: -2.494\nEpoch: 0022 D loss: -0.4953 G loss: -2.477\nEpoch: 0023 D loss: -0.4446 G loss: -2.709\nEpoch: 0024 D loss: -0.3668 G loss: -2.51\nEpoch: 0025 D loss: -0.3864 G loss: -2.562\nEpoch: 0026 D loss: -0.2796 G loss: -2.802\nEpoch: 0027 D loss: -0.3674 G loss: -2.512\nEpoch: 0028 D loss: -0.5394 G loss: -2.526\nEpoch: 0029 D loss: -0.4084 G loss: -2.913\nEpoch: 0030 D loss: -0.565 G loss: -2.237\nEpoch: 0031 D loss: -0.3962 G loss: -2.704\nEpoch: 0032 D loss: -0.5063 G loss: -2.287\nEpoch: 0033 D loss: -0.4669 G loss: -2.396\nEpoch: 0034 D loss: -0.4614 G loss: -2.263\nEpoch: 0035 D loss: -0.4719 G loss: -2.377\nEpoch: 0036 D loss: -0.4867 G loss: -2.261\nEpoch: 0037 D loss: -0.4549 G loss: -2.546\nEpoch: 0038 D loss: -0.5107 G loss: -2.552\nEpoch: 0039 D loss: -0.5385 G loss: -2.534\nEpoch: 0040 D loss: -0.7652 G loss: -2.194\nEpoch: 0041 D loss: -0.4173 G loss: -2.57\nEpoch: 0042 D loss: -0.5546 G loss: -2.219\nEpoch: 0043 D loss: -0.582 G loss: -2.431\nEpoch: 0044 D loss: -0.4081 G loss: -2.643\nEpoch: 0045 D loss: -0.4801 G loss: -2.638\nEpoch: 0046 D loss: -0.64 G loss: -2.072\nEpoch: 0047 D loss: -0.5815 G loss: -2.201\nEpoch: 0048 D loss: -0.6315 G loss: -2.379\nEpoch: 0049 D loss: -0.5984 G loss: -2.166\nEpoch: 0050 D loss: -0.5706 G loss: -2.645\nEpoch: 0051 D loss: -0.6698 G loss: -2.273\nEpoch: 0052 D loss: -0.6616 G loss: -2.181\nEpoch: 0053 D loss: -0.4703 G loss: -2.375\nEpoch: 0054 D loss: -0.577 G loss: -2.429\nEpoch: 0055 D loss: -0.6552 G loss: -2.22\nEpoch: 0056 D loss: -0.7064 G loss: -2.19\nEpoch: 0057 D loss: -0.6267 G loss: -2.371\nEpoch: 0058 D loss: -0.5828 G loss: -2.229\nEpoch: 0059 D loss: -0.6125 G loss: -1.848\nEpoch: 0060 D loss: -0.6516 G loss: -2.223\nEpoch: 0061 D loss: -0.6363 G loss: -2.008\nEpoch: 0062 D loss: -0.6973 G loss: -2.337\nEpoch: 0063 D loss: -0.5671 G loss: -2.524\nEpoch: 0064 D loss: -0.6752 G loss: -2.213\nEpoch: 0065 D loss: -0.5418 G loss: -2.339\nEpoch: 0066 D loss: -0.5691 G loss: -2.228\nEpoch: 0067 D loss: -0.6045 G loss: -2.561\nEpoch: 0068 D loss: -0.593 G loss: -2.322\nEpoch: 0069 D loss: -0.5343 G loss: -2.16\nEpoch: 0070 D loss: -0.6576 G loss: -2.419\nEpoch: 0071 D loss: -0.7446 G loss: -2.317\nEpoch: 0072 D loss: -0.6536 G loss: -2.38\nEpoch: 0073 D loss: -0.4826 G loss: -2.383\nEpoch: 0074 D loss: -0.5784 G loss: -2.251\nEpoch: 0075 D loss: -0.7264 G loss: -2.262\nEpoch: 0076 D loss: -0.6558 G loss: -2.191\nEpoch: 0077 D loss: -0.5623 G loss: -2.426\nEpoch: 0078 D loss: -0.4839 G loss: -2.339\nEpoch: 0079 D loss: -0.6471 G loss: -2.374\nEpoch: 0080 D loss: -0.6513 G loss: -2.226\nEpoch: 0081 D loss: -0.5253 G loss: -2.19\nEpoch: 0082 D loss: -0.6342 G loss: -2.276\nEpoch: 0083 D loss: -0.5527 G loss: -2.271\nEpoch: 0084 D loss: -0.4696 G loss: -2.668\nEpoch: 0085 D loss: -0.6069 G loss: -2.508\nEpoch: 0086 D loss: -0.5804 G loss: -2.146\nEpoch: 0087 D loss: -0.6253 G loss: -2.257\nEpoch: 0088 D loss: -0.4557 G loss: -2.512\nEpoch: 0089 D loss: -0.5689 G loss: -2.521\nEpoch: 0090 D loss: -0.576 G loss: -2.328\nEpoch: 0091 D loss: -0.4729 G loss: -2.803\nEpoch: 0092 D loss: -0.4511 G loss: -2.473\nEpoch: 0093 D loss: -0.5207 G loss: -2.306\nEpoch: 0094 D loss: -0.519 G loss: -2.348\nEpoch: 0095 D loss: -0.4828 G loss: -2.45\nEpoch: 0096 D loss: -0.6167 G loss: -2.206\nEpoch: 0097 D loss: -0.5303 G loss: -2.444\nEpoch: 0098 D loss: -0.4414 G loss: -2.701\nEpoch: 0099 D loss: -0.4914 G loss: -2.338\n최적화 완료!\n"
        }
      ]
    },
    {
      "metadata": {
        "collapsed": true,
        "trusted": false
      },
      "cell_type": "code",
      "source": "",
      "execution_count": null,
      "outputs": []
    }
  ],
  "metadata": {
    "kernelspec": {
      "name": "python36",
      "display_name": "Python 3.6",
      "language": "python"
    },
    "language_info": {
      "mimetype": "text/x-python",
      "nbconvert_exporter": "python",
      "name": "python",
      "pygments_lexer": "ipython3",
      "version": "3.6.6",
      "file_extension": ".py",
      "codemirror_mode": {
        "version": 3,
        "name": "ipython"
      }
    }
  },
  "nbformat": 4,
  "nbformat_minor": 2
}